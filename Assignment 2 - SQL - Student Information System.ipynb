{
    "metadata": {
        "kernelspec": {
            "name": "SQL",
            "display_name": "SQL",
            "language": "sql"
        },
        "language_info": {
            "name": "sql",
            "version": ""
        }
    },
    "nbformat_minor": 2,
    "nbformat": 4,
    "cells": [
        {
            "cell_type": "markdown",
            "source": [
                "**Task 1: Database Design**"
            ],
            "metadata": {
                "azdata_cell_guid": "5c8c7127-61ae-43db-a727-7720b089bd28"
            },
            "attachments": {}
        },
        {
            "cell_type": "markdown",
            "source": [
                ""
            ],
            "metadata": {
                "azdata_cell_guid": "f1ffa294-8054-402b-b3e8-c32f92c5098c"
            }
        },
        {
            "cell_type": "code",
            "source": [
                "CREATE DATABASE SISDB;\r\n",
                "\r\n",
                "USE SISDB;\r\n",
                "\r\n",
                "CREATE TABLE Students (\r\n",
                "    student_id INT PRIMARY KEY,\r\n",
                "    first_name VARCHAR(50),\r\n",
                "    last_name VARCHAR(50),\r\n",
                "    date_of_birth DATE,\r\n",
                "    email VARCHAR(100),\r\n",
                "    phone_number VARCHAR(15)\r\n",
                ");\r\n",
                "\r\n",
                "CREATE TABLE Teacher (\r\n",
                "    teacher_id INT PRIMARY KEY,\r\n",
                "    first_name VARCHAR(50),\r\n",
                "    last_name VARCHAR(50),\r\n",
                "    email VARCHAR(100)\r\n",
                ");\r\n",
                "\r\n",
                "CREATE TABLE Courses (\r\n",
                "    course_id INT PRIMARY KEY,\r\n",
                "    course_name VARCHAR(100),\r\n",
                "    credits INT,\r\n",
                "    teacher_id INT,\r\n",
                "    FOREIGN KEY (teacher_id) REFERENCES Teacher(teacher_id)\r\n",
                ");\r\n",
                "\r\n",
                "CREATE TABLE Enrollments (\r\n",
                "    enrollment_id INT PRIMARY KEY,\r\n",
                "    student_id INT,\r\n",
                "    course_id INT,\r\n",
                "    enrollment_date DATE,\r\n",
                "    FOREIGN KEY (student_id) REFERENCES Students(student_id),\r\n",
                "    FOREIGN KEY (course_id) REFERENCES Courses(course_id)\r\n",
                ");\r\n",
                "\r\n",
                "CREATE TABLE Payments (\r\n",
                "    payment_id INT PRIMARY KEY,\r\n",
                "    student_id INT,\r\n",
                "    amount DECIMAL(10, 2),\r\n",
                "    payment_date DATE,\r\n",
                "    FOREIGN KEY (student_id) REFERENCES Students(student_id)\r\n",
                ");\r\n",
                "\r\n",
                "INSERT INTO Students (student_id, first_name, last_name, date_of_birth, email, phone_number)\r\n",
                "VALUES\r\n",
                "   (1, 'John', 'Doe', '2000-01-01', 'john.doe@example.com', '123-456-7890'),\r\n",
                "   (2, 'Jane', 'Smith', '1999-05-15', 'jane.smith@example.com', '987-654-3210'),\r\n",
                "   (3, 'Michael', 'Johnson', '2001-07-20', 'michael.johnson@example.com', '456-789-0123'),\r\n",
                "   (4, 'Emily', 'Williams', '2002-03-10', 'emily.williams@example.com', '789-012-3456'),\r\n",
                "   (5, 'David', 'Brown', '1998-11-30', 'david.brown@example.com', '321-654-9870'),\r\n",
                "   (6, 'Sarah', 'Jones', '2003-09-05', 'sarah.jones@example.com', '654-987-0123'),\r\n",
                "   (7, 'Daniel', 'Miller', '2000-12-25', 'daniel.miller@example.com', '987-012-3456'),\r\n",
                "   (8, 'Jessica', 'Davis', '1997-04-18', 'jessica.davis@example.com', '012-345-6789'),\r\n",
                "   (9, 'Matthew', 'Wilson', '1999-08-08', 'matthew.wilson@example.com', '345-678-9012'),\r\n",
                "   (10, 'Amanda', 'Taylor', '2002-06-15', 'amanda.taylor@example.com', '678-901-2345');\r\n",
                "\r\n",
                "INSERT INTO Teacher (teacher_id, first_name, last_name, email)\r\n",
                "VALUES\r\n",
                "   (101, 'Alex', 'Johnson', 'alex.johnson@example.com'),\r\n",
                "   (102, 'Emma', 'Williams', 'emma.williams@example.com'),\r\n",
                "   (103, 'Michael', 'Brown', 'michael.brown@example.com'),\r\n",
                "   (104, 'Olivia', 'Jones', 'olivia.jones@example.com'),\r\n",
                "   (105, 'William', 'Davis', 'william.davis@example.com'),\r\n",
                "   (106, 'Sophia', 'Miller', 'sophia.miller@example.com'),\r\n",
                "   (107, 'James', 'Wilson', 'james.wilson@example.com'),\r\n",
                "   (108, 'Charlotte', 'Moore', 'charlotte.moore@example.com'),\r\n",
                "   (109, 'Benjamin', 'Taylor', 'benjamin.taylor@example.com'),\r\n",
                "   (110, 'Ava', 'Anderson', 'ava.anderson@example.com');\r\n",
                "\r\n",
                "INSERT INTO Courses (course_id, course_name, credits, teacher_id)\r\n",
                "VALUES\r\n",
                "   (1, 'Mathematics', 3, 101),\r\n",
                "   (2, 'History', 4, 102),\r\n",
                "   (3, 'Computer Science', 3, 103),\r\n",
                "   (4, 'Literature', 4, 104),\r\n",
                "   (5, 'Biology', 3, 105),\r\n",
                "   (6, 'Chemistry', 4, 106),\r\n",
                "   (7, 'Physics', 3, 107),\r\n",
                "   (8, 'Art', 2, 108),\r\n",
                "   (9, 'Music', 2, 109),\r\n",
                "   (10, 'Physical Education', 2, 110);\r\n",
                "\r\n",
                "INSERT INTO Enrollments (enrollment_id, student_id, course_id, enrollment_date)\r\n",
                "VALUES\r\n",
                "   (1, 1, 1, '2023-09-01'),\r\n",
                "   (2, 1, 2, '2023-09-01'),\r\n",
                "   (3, 2, 3, '2023-09-02'),\r\n",
                "   (4, 2, 4, '2023-09-02'),\r\n",
                "   (5, 3, 5, '2023-09-03'),\r\n",
                "   (6, 3, 6, '2023-09-03'),\r\n",
                "   (7, 4, 7, '2023-09-04'),\r\n",
                "   (8, 4, 8, '2023-09-04'),\r\n",
                "   (9, 5, 9, '2023-09-05'),\r\n",
                "   (10, 5, 10, '2023-09-05');\r\n",
                "\r\n",
                "INSERT INTO Payments (payment_id, student_id, amount, payment_date)\r\n",
                "VALUES\r\n",
                "   (1, 1, 100.00, '2023-09-01'),\r\n",
                "   (2, 2, 150.00, '2023-09-02'),\r\n",
                "   (3, 3, 200.00, '2023-09-03'),\r\n",
                "   (4, 4, 180.00, '2023-09-04'),\r\n",
                "   (5, 5, 120.00, '2023-09-05'),\r\n",
                "   (6, 6, 160.00, '2023-09-06'),\r\n",
                "   (7, 7, 140.00, '2023-09-07'),\r\n",
                "   (8, 8, 130.00, '2023-09-08'),\r\n",
                "   (9, 9, 190.00, '2023-09-09'),\r\n",
                "   (10, 10, 170.00, '2023-09-10');"
            ],
            "metadata": {
                "azdata_cell_guid": "28c03755-68b3-4179-b45a-69bd5a9c87d0",
                "language": "sql",
                "tags": []
            },
            "outputs": [
                {
                    "output_type": "display_data",
                    "data": {
                        "text/html": "(10 rows affected)"
                    },
                    "metadata": {}
                },
                {
                    "output_type": "display_data",
                    "data": {
                        "text/html": "(10 rows affected)"
                    },
                    "metadata": {}
                },
                {
                    "output_type": "display_data",
                    "data": {
                        "text/html": "(10 rows affected)"
                    },
                    "metadata": {}
                },
                {
                    "output_type": "display_data",
                    "data": {
                        "text/html": "(10 rows affected)"
                    },
                    "metadata": {}
                },
                {
                    "output_type": "display_data",
                    "data": {
                        "text/html": "(10 rows affected)"
                    },
                    "metadata": {}
                },
                {
                    "output_type": "display_data",
                    "data": {
                        "text/html": "Total execution time: 00:00:00.054"
                    },
                    "metadata": {}
                }
            ],
            "execution_count": 3
        },
        {
            "cell_type": "markdown",
            "source": [
                "**Tasks 2: Select, Where, Between, AND, LIKE**"
            ],
            "metadata": {
                "azdata_cell_guid": "96bfbe62-0e0f-482f-9384-90efa1db9870"
            },
            "attachments": {}
        },
        {
            "cell_type": "code",
            "source": [
                "USE SISDB;\r\n",
                "\r\n",
                "INSERT INTO Students (student_id, first_name, last_name, date_of_birth, email, phone_number)\r\n",
                "VALUES (11, 'John', 'Doe', '1995-08-15', 'john.doe@example.com', '1234567890');\r\n",
                "\r\n",
                "INSERT INTO Enrollments (enrollment_id, student_id, course_id, enrollment_date)\r\n",
                "VALUES (11, 11, 5, GETDATE());\r\n",
                "\r\n",
                "UPDATE Teacher\r\n",
                "SET email = 'alexa.email@example.com'\r\n",
                "WHERE teacher_id = 101;\r\n",
                "\r\n",
                "DELETE FROM Enrollments\r\n",
                "WHERE student_id = 1\r\n",
                "AND course_id = 1;\r\n",
                "\r\n",
                "UPDATE Courses\r\n",
                "SET teacher_id = 103\r\n",
                "WHERE course_id = 1;\r\n",
                "\r\n",
                "BEGIN TRANSACTION;\r\n",
                "-- Delete enrollment records for the student\r\n",
                "DELETE FROM Enrollments\r\n",
                "WHERE student_id = 1;\r\n",
                "DELETE FROM Payments\r\n",
                "WHERE student_id = 1;\r\n",
                "-- Now delete the student\r\n",
                "DELETE FROM Students  \r\n",
                "WHERE student_id = 1;\r\n",
                "COMMIT TRANSACTION;\r\n",
                "\r\n",
                "UPDATE Payments\r\n",
                "SET amount = 200.00\r\n",
                "WHERE payment_id = 1;"
            ],
            "metadata": {
                "azdata_cell_guid": "63d55ec7-c373-4e77-9289-0a16b38cf847",
                "language": "sql"
            },
            "outputs": [
                {
                    "output_type": "display_data",
                    "data": {
                        "text/html": "(1 row affected)"
                    },
                    "metadata": {}
                },
                {
                    "output_type": "display_data",
                    "data": {
                        "text/html": "(1 row affected)"
                    },
                    "metadata": {}
                },
                {
                    "output_type": "display_data",
                    "data": {
                        "text/html": "(1 row affected)"
                    },
                    "metadata": {}
                },
                {
                    "output_type": "display_data",
                    "data": {
                        "text/html": "(1 row affected)"
                    },
                    "metadata": {}
                },
                {
                    "output_type": "display_data",
                    "data": {
                        "text/html": "(1 row affected)"
                    },
                    "metadata": {}
                },
                {
                    "output_type": "display_data",
                    "data": {
                        "text/html": "(1 row affected)"
                    },
                    "metadata": {}
                },
                {
                    "output_type": "display_data",
                    "data": {
                        "text/html": "(1 row affected)"
                    },
                    "metadata": {}
                },
                {
                    "output_type": "display_data",
                    "data": {
                        "text/html": "(1 row affected)"
                    },
                    "metadata": {}
                },
                {
                    "output_type": "display_data",
                    "data": {
                        "text/html": "(0 rows affected)"
                    },
                    "metadata": {}
                },
                {
                    "output_type": "display_data",
                    "data": {
                        "text/html": "Total execution time: 00:00:00.065"
                    },
                    "metadata": {}
                }
            ],
            "execution_count": 2
        },
        {
            "cell_type": "markdown",
            "source": [
                "**Task 3: Aggregate functions, Having, Order By, GroupBy and Joins**"
            ],
            "metadata": {
                "azdata_cell_guid": "8b9021ec-222b-46b2-bc1f-e2f016d83aee"
            },
            "attachments": {}
        },
        {
            "cell_type": "code",
            "source": [
                "USE SISDB;\r\n",
                "\r\n",
                "SELECT SUM(amount) AS total_payments\r\n",
                "FROM Payments\r\n",
                "WHERE student_id = 2;\r\n",
                "\r\n",
                "SELECT c.course_name, COUNT(e.student_id) AS enrolled_students_count\r\n",
                "FROM Courses c\r\n",
                "LEFT JOIN Enrollments e ON c.course_id = e.course_id\r\n",
                "GROUP BY c.course_name;\r\n",
                "\r\n",
                "SELECT s.first_name, s.last_name\r\n",
                "FROM Students s\r\n",
                "LEFT JOIN Enrollments e ON s.student_id = e.student_id\r\n",
                "WHERE e.student_id IS NULL;\r\n",
                "\r\n",
                "SELECT s.first_name, s.last_name, c.course_name\r\n",
                "FROM Students s\r\n",
                "JOIN Enrollments e ON s.student_id = e.student_id\r\n",
                "JOIN Courses c ON e.course_id = c.course_id;\r\n",
                "\r\n",
                "SELECT t.first_name, t.last_name, c.course_name\r\n",
                "FROM Teacher t\r\n",
                "JOIN Courses c ON t.teacher_id = c.teacher_id;\r\n",
                "\r\n",
                "SELECT s.first_name, s.last_name, e.enrollment_date, c.course_name\r\n",
                "FROM Students s\r\n",
                "JOIN Enrollments e ON s.student_id = e.student_id\r\n",
                "JOIN Courses c ON e.course_id = c.course_id\r\n",
                "WHERE c.course_name = 'Literature';\r\n",
                "\r\n",
                "SELECT s.first_name, s.last_name\r\n",
                "FROM Students s\r\n",
                "LEFT JOIN Payments p ON s.student_id = p.student_id\r\n",
                "WHERE p.student_id IS NULL;\r\n",
                "\r\n",
                "SELECT c.course_name\r\n",
                "FROM Courses c\r\n",
                "LEFT JOIN Enrollments e ON c.course_id = e.course_id\r\n",
                "WHERE e.course_id IS NULL;\r\n",
                "\r\n",
                "SELECT DISTINCT s.first_name, s.last_name\r\n",
                "FROM Students s\r\n",
                "JOIN Enrollments e1 ON s.student_id = e1.student_id\r\n",
                "JOIN Enrollments e2 ON s.student_id = e2.student_id AND e1.enrollment_id <> e2.enrollment_id;\r\n",
                "-- or the below one\r\n",
                "SELECT s.first_name, s.last_name\r\n",
                "FROM Students s\r\n",
                "JOIN Enrollments e ON s.student_id = e.student_id\r\n",
                "GROUP BY s.first_name, s.last_name\r\n",
                "HAVING COUNT(*) > 1;\r\n",
                "\r\n",
                "SELECT t.first_name, t.last_name\r\n",
                "FROM Teacher t\r\n",
                "LEFT JOIN Courses c ON t.teacher_id = c.teacher_id\r\n",
                "WHERE c.teacher_id IS NULL;"
            ],
            "metadata": {
                "azdata_cell_guid": "719657f3-f46c-4a14-8d08-1a8186d3f348",
                "language": "sql",
                "tags": []
            },
            "outputs": [
                {
                    "output_type": "display_data",
                    "data": {
                        "text/html": "(1 row affected)"
                    },
                    "metadata": {}
                },
                {
                    "output_type": "display_data",
                    "data": {
                        "text/html": "Warning: Null value is eliminated by an aggregate or other SET operation."
                    },
                    "metadata": {}
                },
                {
                    "output_type": "display_data",
                    "data": {
                        "text/html": "(10 rows affected)"
                    },
                    "metadata": {}
                },
                {
                    "output_type": "display_data",
                    "data": {
                        "text/html": "(5 rows affected)"
                    },
                    "metadata": {}
                },
                {
                    "output_type": "display_data",
                    "data": {
                        "text/html": "(9 rows affected)"
                    },
                    "metadata": {}
                },
                {
                    "output_type": "display_data",
                    "data": {
                        "text/html": "(10 rows affected)"
                    },
                    "metadata": {}
                },
                {
                    "output_type": "display_data",
                    "data": {
                        "text/html": "(1 row affected)"
                    },
                    "metadata": {}
                },
                {
                    "output_type": "display_data",
                    "data": {
                        "text/html": "(1 row affected)"
                    },
                    "metadata": {}
                },
                {
                    "output_type": "display_data",
                    "data": {
                        "text/html": "(2 rows affected)"
                    },
                    "metadata": {}
                },
                {
                    "output_type": "display_data",
                    "data": {
                        "text/html": "(4 rows affected)"
                    },
                    "metadata": {}
                },
                {
                    "output_type": "display_data",
                    "data": {
                        "text/html": "(4 rows affected)"
                    },
                    "metadata": {}
                },
                {
                    "output_type": "display_data",
                    "data": {
                        "text/html": "(1 row affected)"
                    },
                    "metadata": {}
                },
                {
                    "output_type": "display_data",
                    "data": {
                        "text/html": "Total execution time: 00:00:00.130"
                    },
                    "metadata": {}
                },
                {
                    "output_type": "execute_result",
                    "execution_count": 3,
                    "data": {
                        "application/vnd.dataresource+json": {
                            "schema": {
                                "fields": [
                                    {
                                        "name": "total_payments"
                                    }
                                ]
                            },
                            "data": [
                                {
                                    "total_payments": "150.00"
                                }
                            ]
                        },
                        "text/html": "<table><tr><th>total_payments</th></tr><tr><td>150.00</td></tr></table>"
                    },
                    "metadata": {}
                },
                {
                    "output_type": "execute_result",
                    "execution_count": 3,
                    "data": {
                        "application/vnd.dataresource+json": {
                            "schema": {
                                "fields": [
                                    {
                                        "name": "course_name"
                                    },
                                    {
                                        "name": "enrolled_students_count"
                                    }
                                ]
                            },
                            "data": [
                                {
                                    "course_name": "Art",
                                    "enrolled_students_count": "1"
                                },
                                {
                                    "course_name": "Biology",
                                    "enrolled_students_count": "2"
                                },
                                {
                                    "course_name": "Chemistry",
                                    "enrolled_students_count": "1"
                                },
                                {
                                    "course_name": "Computer Science",
                                    "enrolled_students_count": "1"
                                },
                                {
                                    "course_name": "History",
                                    "enrolled_students_count": "0"
                                },
                                {
                                    "course_name": "Literature",
                                    "enrolled_students_count": "1"
                                },
                                {
                                    "course_name": "Mathematics",
                                    "enrolled_students_count": "0"
                                },
                                {
                                    "course_name": "Music",
                                    "enrolled_students_count": "1"
                                },
                                {
                                    "course_name": "Physical Education",
                                    "enrolled_students_count": "1"
                                },
                                {
                                    "course_name": "Physics",
                                    "enrolled_students_count": "1"
                                }
                            ]
                        },
                        "text/html": "<table><tr><th>course_name</th><th>enrolled_students_count</th></tr><tr><td>Art</td><td>1</td></tr><tr><td>Biology</td><td>2</td></tr><tr><td>Chemistry</td><td>1</td></tr><tr><td>Computer Science</td><td>1</td></tr><tr><td>History</td><td>0</td></tr><tr><td>Literature</td><td>1</td></tr><tr><td>Mathematics</td><td>0</td></tr><tr><td>Music</td><td>1</td></tr><tr><td>Physical Education</td><td>1</td></tr><tr><td>Physics</td><td>1</td></tr></table>"
                    },
                    "metadata": {}
                },
                {
                    "output_type": "execute_result",
                    "execution_count": 3,
                    "data": {
                        "application/vnd.dataresource+json": {
                            "schema": {
                                "fields": [
                                    {
                                        "name": "first_name"
                                    },
                                    {
                                        "name": "last_name"
                                    }
                                ]
                            },
                            "data": [
                                {
                                    "first_name": "Sarah",
                                    "last_name": "Jones"
                                },
                                {
                                    "first_name": "Daniel",
                                    "last_name": "Miller"
                                },
                                {
                                    "first_name": "Jessica",
                                    "last_name": "Davis"
                                },
                                {
                                    "first_name": "Matthew",
                                    "last_name": "Wilson"
                                },
                                {
                                    "first_name": "Amanda",
                                    "last_name": "Taylor"
                                }
                            ]
                        },
                        "text/html": "<table><tr><th>first_name</th><th>last_name</th></tr><tr><td>Sarah</td><td>Jones</td></tr><tr><td>Daniel</td><td>Miller</td></tr><tr><td>Jessica</td><td>Davis</td></tr><tr><td>Matthew</td><td>Wilson</td></tr><tr><td>Amanda</td><td>Taylor</td></tr></table>"
                    },
                    "metadata": {}
                },
                {
                    "output_type": "execute_result",
                    "execution_count": 3,
                    "data": {
                        "application/vnd.dataresource+json": {
                            "schema": {
                                "fields": [
                                    {
                                        "name": "first_name"
                                    },
                                    {
                                        "name": "last_name"
                                    },
                                    {
                                        "name": "course_name"
                                    }
                                ]
                            },
                            "data": [
                                {
                                    "first_name": "Jane",
                                    "last_name": "Smith",
                                    "course_name": "Computer Science"
                                },
                                {
                                    "first_name": "Jane",
                                    "last_name": "Smith",
                                    "course_name": "Literature"
                                },
                                {
                                    "first_name": "Michael",
                                    "last_name": "Johnson",
                                    "course_name": "Biology"
                                },
                                {
                                    "first_name": "Michael",
                                    "last_name": "Johnson",
                                    "course_name": "Chemistry"
                                },
                                {
                                    "first_name": "Emily",
                                    "last_name": "Williams",
                                    "course_name": "Physics"
                                },
                                {
                                    "first_name": "Emily",
                                    "last_name": "Williams",
                                    "course_name": "Art"
                                },
                                {
                                    "first_name": "David",
                                    "last_name": "Brown",
                                    "course_name": "Music"
                                },
                                {
                                    "first_name": "David",
                                    "last_name": "Brown",
                                    "course_name": "Physical Education"
                                },
                                {
                                    "first_name": "John",
                                    "last_name": "Doe",
                                    "course_name": "Biology"
                                }
                            ]
                        },
                        "text/html": "<table><tr><th>first_name</th><th>last_name</th><th>course_name</th></tr><tr><td>Jane</td><td>Smith</td><td>Computer Science</td></tr><tr><td>Jane</td><td>Smith</td><td>Literature</td></tr><tr><td>Michael</td><td>Johnson</td><td>Biology</td></tr><tr><td>Michael</td><td>Johnson</td><td>Chemistry</td></tr><tr><td>Emily</td><td>Williams</td><td>Physics</td></tr><tr><td>Emily</td><td>Williams</td><td>Art</td></tr><tr><td>David</td><td>Brown</td><td>Music</td></tr><tr><td>David</td><td>Brown</td><td>Physical Education</td></tr><tr><td>John</td><td>Doe</td><td>Biology</td></tr></table>"
                    },
                    "metadata": {}
                },
                {
                    "output_type": "execute_result",
                    "execution_count": 3,
                    "data": {
                        "application/vnd.dataresource+json": {
                            "schema": {
                                "fields": [
                                    {
                                        "name": "first_name"
                                    },
                                    {
                                        "name": "last_name"
                                    },
                                    {
                                        "name": "course_name"
                                    }
                                ]
                            },
                            "data": [
                                {
                                    "first_name": "Michael",
                                    "last_name": "Brown",
                                    "course_name": "Mathematics"
                                },
                                {
                                    "first_name": "Emma",
                                    "last_name": "Williams",
                                    "course_name": "History"
                                },
                                {
                                    "first_name": "Michael",
                                    "last_name": "Brown",
                                    "course_name": "Computer Science"
                                },
                                {
                                    "first_name": "Olivia",
                                    "last_name": "Jones",
                                    "course_name": "Literature"
                                },
                                {
                                    "first_name": "William",
                                    "last_name": "Davis",
                                    "course_name": "Biology"
                                },
                                {
                                    "first_name": "Sophia",
                                    "last_name": "Miller",
                                    "course_name": "Chemistry"
                                },
                                {
                                    "first_name": "James",
                                    "last_name": "Wilson",
                                    "course_name": "Physics"
                                },
                                {
                                    "first_name": "Charlotte",
                                    "last_name": "Moore",
                                    "course_name": "Art"
                                },
                                {
                                    "first_name": "Benjamin",
                                    "last_name": "Taylor",
                                    "course_name": "Music"
                                },
                                {
                                    "first_name": "Ava",
                                    "last_name": "Anderson",
                                    "course_name": "Physical Education"
                                }
                            ]
                        },
                        "text/html": "<table><tr><th>first_name</th><th>last_name</th><th>course_name</th></tr><tr><td>Michael</td><td>Brown</td><td>Mathematics</td></tr><tr><td>Emma</td><td>Williams</td><td>History</td></tr><tr><td>Michael</td><td>Brown</td><td>Computer Science</td></tr><tr><td>Olivia</td><td>Jones</td><td>Literature</td></tr><tr><td>William</td><td>Davis</td><td>Biology</td></tr><tr><td>Sophia</td><td>Miller</td><td>Chemistry</td></tr><tr><td>James</td><td>Wilson</td><td>Physics</td></tr><tr><td>Charlotte</td><td>Moore</td><td>Art</td></tr><tr><td>Benjamin</td><td>Taylor</td><td>Music</td></tr><tr><td>Ava</td><td>Anderson</td><td>Physical Education</td></tr></table>"
                    },
                    "metadata": {}
                },
                {
                    "output_type": "execute_result",
                    "execution_count": 3,
                    "data": {
                        "application/vnd.dataresource+json": {
                            "schema": {
                                "fields": [
                                    {
                                        "name": "first_name"
                                    },
                                    {
                                        "name": "last_name"
                                    },
                                    {
                                        "name": "enrollment_date"
                                    },
                                    {
                                        "name": "course_name"
                                    }
                                ]
                            },
                            "data": [
                                {
                                    "first_name": "Jane",
                                    "last_name": "Smith",
                                    "enrollment_date": "2023-09-02",
                                    "course_name": "Literature"
                                }
                            ]
                        },
                        "text/html": "<table><tr><th>first_name</th><th>last_name</th><th>enrollment_date</th><th>course_name</th></tr><tr><td>Jane</td><td>Smith</td><td>2023-09-02</td><td>Literature</td></tr></table>"
                    },
                    "metadata": {}
                },
                {
                    "output_type": "execute_result",
                    "execution_count": 3,
                    "data": {
                        "application/vnd.dataresource+json": {
                            "schema": {
                                "fields": [
                                    {
                                        "name": "first_name"
                                    },
                                    {
                                        "name": "last_name"
                                    }
                                ]
                            },
                            "data": [
                                {
                                    "first_name": "John",
                                    "last_name": "Doe"
                                }
                            ]
                        },
                        "text/html": "<table><tr><th>first_name</th><th>last_name</th></tr><tr><td>John</td><td>Doe</td></tr></table>"
                    },
                    "metadata": {}
                },
                {
                    "output_type": "execute_result",
                    "execution_count": 3,
                    "data": {
                        "application/vnd.dataresource+json": {
                            "schema": {
                                "fields": [
                                    {
                                        "name": "course_name"
                                    }
                                ]
                            },
                            "data": [
                                {
                                    "course_name": "Mathematics"
                                },
                                {
                                    "course_name": "History"
                                }
                            ]
                        },
                        "text/html": "<table><tr><th>course_name</th></tr><tr><td>Mathematics</td></tr><tr><td>History</td></tr></table>"
                    },
                    "metadata": {}
                },
                {
                    "output_type": "execute_result",
                    "execution_count": 3,
                    "data": {
                        "application/vnd.dataresource+json": {
                            "schema": {
                                "fields": [
                                    {
                                        "name": "first_name"
                                    },
                                    {
                                        "name": "last_name"
                                    }
                                ]
                            },
                            "data": [
                                {
                                    "first_name": "David",
                                    "last_name": "Brown"
                                },
                                {
                                    "first_name": "Emily",
                                    "last_name": "Williams"
                                },
                                {
                                    "first_name": "Jane",
                                    "last_name": "Smith"
                                },
                                {
                                    "first_name": "Michael",
                                    "last_name": "Johnson"
                                }
                            ]
                        },
                        "text/html": "<table><tr><th>first_name</th><th>last_name</th></tr><tr><td>David</td><td>Brown</td></tr><tr><td>Emily</td><td>Williams</td></tr><tr><td>Jane</td><td>Smith</td></tr><tr><td>Michael</td><td>Johnson</td></tr></table>"
                    },
                    "metadata": {}
                },
                {
                    "output_type": "execute_result",
                    "execution_count": 3,
                    "data": {
                        "application/vnd.dataresource+json": {
                            "schema": {
                                "fields": [
                                    {
                                        "name": "first_name"
                                    },
                                    {
                                        "name": "last_name"
                                    }
                                ]
                            },
                            "data": [
                                {
                                    "first_name": "David",
                                    "last_name": "Brown"
                                },
                                {
                                    "first_name": "Michael",
                                    "last_name": "Johnson"
                                },
                                {
                                    "first_name": "Jane",
                                    "last_name": "Smith"
                                },
                                {
                                    "first_name": "Emily",
                                    "last_name": "Williams"
                                }
                            ]
                        },
                        "text/html": "<table><tr><th>first_name</th><th>last_name</th></tr><tr><td>David</td><td>Brown</td></tr><tr><td>Michael</td><td>Johnson</td></tr><tr><td>Jane</td><td>Smith</td></tr><tr><td>Emily</td><td>Williams</td></tr></table>"
                    },
                    "metadata": {}
                },
                {
                    "output_type": "execute_result",
                    "execution_count": 3,
                    "data": {
                        "application/vnd.dataresource+json": {
                            "schema": {
                                "fields": [
                                    {
                                        "name": "first_name"
                                    },
                                    {
                                        "name": "last_name"
                                    }
                                ]
                            },
                            "data": [
                                {
                                    "first_name": "Alex",
                                    "last_name": "Johnson"
                                }
                            ]
                        },
                        "text/html": "<table><tr><th>first_name</th><th>last_name</th></tr><tr><td>Alex</td><td>Johnson</td></tr></table>"
                    },
                    "metadata": {}
                }
            ],
            "execution_count": 3
        },
        {
            "cell_type": "markdown",
            "source": [
                "**Task 4: Subquery and its type**"
            ],
            "metadata": {
                "azdata_cell_guid": "f040f57d-3180-4f30-9481-a6e258c874f3"
            },
            "attachments": {}
        },
        {
            "cell_type": "code",
            "source": [
                "USE SISDB;\r\n",
                "\r\n",
                "SELECT AVG(student_count) AS average_students_per_course\r\n",
                "FROM (\r\n",
                "    SELECT COUNT(*) AS student_count\r\n",
                "    FROM Enrollments\r\n",
                "    GROUP BY course_id\r\n",
                ") AS course_enrollment_counts;\r\n",
                "\r\n",
                "SELECT student_id\r\n",
                "FROM Payments\r\n",
                "WHERE amount = (SELECT MAX(amount) FROM Payments);\r\n",
                "\r\n",
                "SELECT e.course_id, c.course_name\r\n",
                "FROM (\r\n",
                "    SELECT course_id\r\n",
                "    FROM Enrollments\r\n",
                "    GROUP BY course_id\r\n",
                "    HAVING COUNT(*) = (\r\n",
                "        SELECT MAX(enrollment_count)\r\n",
                "        FROM (\r\n",
                "            SELECT COUNT(*) AS enrollment_count\r\n",
                "            FROM Enrollments\r\n",
                "            GROUP BY course_id\r\n",
                "        ) AS course_enrollment_counts\r\n",
                "    )\r\n",
                ") AS e\r\n",
                "JOIN Courses c ON e.course_id = c.course_id;\r\n",
                "\r\n",
                "SELECT t.teacher_id, t.first_name, t.last_name, SUM(p.amount) AS total_payments\r\n",
                "FROM Teacher t\r\n",
                "JOIN Courses c ON t.teacher_id = c.teacher_id\r\n",
                "JOIN Enrollments e ON c.course_id = e.course_id\r\n",
                "JOIN Payments p ON e.student_id = p.student_id\r\n",
                "GROUP BY t.teacher_id, t.first_name, t.last_name;\r\n",
                "\r\n",
                "SELECT student_id\r\n",
                "FROM Enrollments\r\n",
                "GROUP BY student_id\r\n",
                "HAVING COUNT(DISTINCT course_id) = (\r\n",
                "    SELECT COUNT(*) FROM Courses\r\n",
                ");\r\n",
                "\r\n",
                "SELECT * \r\n",
                "FROM Teacher \r\n",
                "WHERE teacher_id NOT IN ( \r\n",
                "    SELECT DISTINCT teacher_id \r\n",
                "    FROM Courses \r\n",
                ");\r\n",
                "\r\n",
                "SELECT AVG(age) AS average_age\r\n",
                "FROM (\r\n",
                "    SELECT DATEDIFF(year, date_of_birth, GETDATE()) AS age\r\n",
                "    FROM Students\r\n",
                ") AS student_age;\r\n",
                "\r\n",
                "SELECT course_id, course_name\r\n",
                "FROM Courses\r\n",
                "WHERE course_id NOT IN (\r\n",
                "    SELECT DISTINCT course_id\r\n",
                "    FROM Enrollments\r\n",
                ");\r\n",
                "\r\n",
                "SELECT e.student_id, e.course_id, SUM(p.amount) AS total_payments\r\n",
                "FROM Enrollments e\r\n",
                "JOIN Payments p ON e.student_id = p.student_id\r\n",
                "GROUP BY e.student_id, e.course_id; \r\n",
                "\r\n",
                "SELECT student_id\r\n",
                "FROM Payments\r\n",
                "GROUP BY student_id\r\n",
                "HAVING COUNT(*) > 1;\r\n",
                "\r\n",
                "SELECT student_id, SUM(amount) AS total_payments\r\n",
                "FROM Payments\r\n",
                "GROUP BY student_id;\r\n",
                "\r\n",
                "SELECT c.course_name, COUNT(e.student_id) AS enrollment_count\r\n",
                "FROM Courses c\r\n",
                "LEFT JOIN Enrollments e ON c.course_id = e.course_id\r\n",
                "GROUP BY c.course_name;\r\n",
                "\r\n",
                "SELECT AVG(amount) AS average_payment_amount\r\n",
                "FROM Payments;"
            ],
            "metadata": {
                "azdata_cell_guid": "e79171c8-b8f8-48fe-9773-9700ee05f3fe",
                "language": "sql",
                "tags": []
            },
            "outputs": [
                {
                    "output_type": "display_data",
                    "data": {
                        "text/html": "(1 row affected)"
                    },
                    "metadata": {}
                },
                {
                    "output_type": "display_data",
                    "data": {
                        "text/html": "(1 row affected)"
                    },
                    "metadata": {}
                },
                {
                    "output_type": "display_data",
                    "data": {
                        "text/html": "(1 row affected)"
                    },
                    "metadata": {}
                },
                {
                    "output_type": "display_data",
                    "data": {
                        "text/html": "(8 rows affected)"
                    },
                    "metadata": {}
                },
                {
                    "output_type": "display_data",
                    "data": {
                        "text/html": "(0 rows affected)"
                    },
                    "metadata": {}
                },
                {
                    "output_type": "display_data",
                    "data": {
                        "text/html": "(1 row affected)"
                    },
                    "metadata": {}
                },
                {
                    "output_type": "display_data",
                    "data": {
                        "text/html": "(1 row affected)"
                    },
                    "metadata": {}
                },
                {
                    "output_type": "display_data",
                    "data": {
                        "text/html": "(2 rows affected)"
                    },
                    "metadata": {}
                },
                {
                    "output_type": "display_data",
                    "data": {
                        "text/html": "(8 rows affected)"
                    },
                    "metadata": {}
                },
                {
                    "output_type": "display_data",
                    "data": {
                        "text/html": "(0 rows affected)"
                    },
                    "metadata": {}
                },
                {
                    "output_type": "display_data",
                    "data": {
                        "text/html": "(9 rows affected)"
                    },
                    "metadata": {}
                },
                {
                    "output_type": "display_data",
                    "data": {
                        "text/html": "Warning: Null value is eliminated by an aggregate or other SET operation."
                    },
                    "metadata": {}
                },
                {
                    "output_type": "display_data",
                    "data": {
                        "text/html": "(10 rows affected)"
                    },
                    "metadata": {}
                },
                {
                    "output_type": "display_data",
                    "data": {
                        "text/html": "(1 row affected)"
                    },
                    "metadata": {}
                },
                {
                    "output_type": "display_data",
                    "data": {
                        "text/html": "Total execution time: 00:00:00.119"
                    },
                    "metadata": {}
                },
                {
                    "output_type": "execute_result",
                    "execution_count": 4,
                    "data": {
                        "application/vnd.dataresource+json": {
                            "schema": {
                                "fields": [
                                    {
                                        "name": "average_students_per_course"
                                    }
                                ]
                            },
                            "data": [
                                {
                                    "average_students_per_course": "1"
                                }
                            ]
                        },
                        "text/html": "<table><tr><th>average_students_per_course</th></tr><tr><td>1</td></tr></table>"
                    },
                    "metadata": {}
                },
                {
                    "output_type": "execute_result",
                    "execution_count": 4,
                    "data": {
                        "application/vnd.dataresource+json": {
                            "schema": {
                                "fields": [
                                    {
                                        "name": "student_id"
                                    }
                                ]
                            },
                            "data": [
                                {
                                    "student_id": "3"
                                }
                            ]
                        },
                        "text/html": "<table><tr><th>student_id</th></tr><tr><td>3</td></tr></table>"
                    },
                    "metadata": {}
                },
                {
                    "output_type": "execute_result",
                    "execution_count": 4,
                    "data": {
                        "application/vnd.dataresource+json": {
                            "schema": {
                                "fields": [
                                    {
                                        "name": "course_id"
                                    },
                                    {
                                        "name": "course_name"
                                    }
                                ]
                            },
                            "data": [
                                {
                                    "course_id": "5",
                                    "course_name": "Biology"
                                }
                            ]
                        },
                        "text/html": "<table><tr><th>course_id</th><th>course_name</th></tr><tr><td>5</td><td>Biology</td></tr></table>"
                    },
                    "metadata": {}
                },
                {
                    "output_type": "execute_result",
                    "execution_count": 4,
                    "data": {
                        "application/vnd.dataresource+json": {
                            "schema": {
                                "fields": [
                                    {
                                        "name": "teacher_id"
                                    },
                                    {
                                        "name": "first_name"
                                    },
                                    {
                                        "name": "last_name"
                                    },
                                    {
                                        "name": "total_payments"
                                    }
                                ]
                            },
                            "data": [
                                {
                                    "teacher_id": "103",
                                    "first_name": "Michael",
                                    "last_name": "Brown",
                                    "total_payments": "150.00"
                                },
                                {
                                    "teacher_id": "104",
                                    "first_name": "Olivia",
                                    "last_name": "Jones",
                                    "total_payments": "150.00"
                                },
                                {
                                    "teacher_id": "105",
                                    "first_name": "William",
                                    "last_name": "Davis",
                                    "total_payments": "200.00"
                                },
                                {
                                    "teacher_id": "106",
                                    "first_name": "Sophia",
                                    "last_name": "Miller",
                                    "total_payments": "200.00"
                                },
                                {
                                    "teacher_id": "107",
                                    "first_name": "James",
                                    "last_name": "Wilson",
                                    "total_payments": "180.00"
                                },
                                {
                                    "teacher_id": "108",
                                    "first_name": "Charlotte",
                                    "last_name": "Moore",
                                    "total_payments": "180.00"
                                },
                                {
                                    "teacher_id": "109",
                                    "first_name": "Benjamin",
                                    "last_name": "Taylor",
                                    "total_payments": "120.00"
                                },
                                {
                                    "teacher_id": "110",
                                    "first_name": "Ava",
                                    "last_name": "Anderson",
                                    "total_payments": "120.00"
                                }
                            ]
                        },
                        "text/html": "<table><tr><th>teacher_id</th><th>first_name</th><th>last_name</th><th>total_payments</th></tr><tr><td>103</td><td>Michael</td><td>Brown</td><td>150.00</td></tr><tr><td>104</td><td>Olivia</td><td>Jones</td><td>150.00</td></tr><tr><td>105</td><td>William</td><td>Davis</td><td>200.00</td></tr><tr><td>106</td><td>Sophia</td><td>Miller</td><td>200.00</td></tr><tr><td>107</td><td>James</td><td>Wilson</td><td>180.00</td></tr><tr><td>108</td><td>Charlotte</td><td>Moore</td><td>180.00</td></tr><tr><td>109</td><td>Benjamin</td><td>Taylor</td><td>120.00</td></tr><tr><td>110</td><td>Ava</td><td>Anderson</td><td>120.00</td></tr></table>"
                    },
                    "metadata": {}
                },
                {
                    "output_type": "execute_result",
                    "execution_count": 4,
                    "data": {
                        "application/vnd.dataresource+json": {
                            "schema": {
                                "fields": [
                                    {
                                        "name": "student_id"
                                    }
                                ]
                            },
                            "data": []
                        },
                        "text/html": "<table><tr><th>student_id</th></tr></table>"
                    },
                    "metadata": {}
                },
                {
                    "output_type": "execute_result",
                    "execution_count": 4,
                    "data": {
                        "application/vnd.dataresource+json": {
                            "schema": {
                                "fields": [
                                    {
                                        "name": "teacher_id"
                                    },
                                    {
                                        "name": "first_name"
                                    },
                                    {
                                        "name": "last_name"
                                    },
                                    {
                                        "name": "email"
                                    }
                                ]
                            },
                            "data": [
                                {
                                    "teacher_id": "101",
                                    "first_name": "Alex",
                                    "last_name": "Johnson",
                                    "email": "alexa.email@example.com"
                                }
                            ]
                        },
                        "text/html": "<table><tr><th>teacher_id</th><th>first_name</th><th>last_name</th><th>email</th></tr><tr><td>101</td><td>Alex</td><td>Johnson</td><td>alexa.email@example.com</td></tr></table>"
                    },
                    "metadata": {}
                },
                {
                    "output_type": "execute_result",
                    "execution_count": 4,
                    "data": {
                        "application/vnd.dataresource+json": {
                            "schema": {
                                "fields": [
                                    {
                                        "name": "average_age"
                                    }
                                ]
                            },
                            "data": [
                                {
                                    "average_age": "24"
                                }
                            ]
                        },
                        "text/html": "<table><tr><th>average_age</th></tr><tr><td>24</td></tr></table>"
                    },
                    "metadata": {}
                },
                {
                    "output_type": "execute_result",
                    "execution_count": 4,
                    "data": {
                        "application/vnd.dataresource+json": {
                            "schema": {
                                "fields": [
                                    {
                                        "name": "course_id"
                                    },
                                    {
                                        "name": "course_name"
                                    }
                                ]
                            },
                            "data": [
                                {
                                    "course_id": "1",
                                    "course_name": "Mathematics"
                                },
                                {
                                    "course_id": "2",
                                    "course_name": "History"
                                }
                            ]
                        },
                        "text/html": "<table><tr><th>course_id</th><th>course_name</th></tr><tr><td>1</td><td>Mathematics</td></tr><tr><td>2</td><td>History</td></tr></table>"
                    },
                    "metadata": {}
                },
                {
                    "output_type": "execute_result",
                    "execution_count": 4,
                    "data": {
                        "application/vnd.dataresource+json": {
                            "schema": {
                                "fields": [
                                    {
                                        "name": "student_id"
                                    },
                                    {
                                        "name": "course_id"
                                    },
                                    {
                                        "name": "total_payments"
                                    }
                                ]
                            },
                            "data": [
                                {
                                    "student_id": "2",
                                    "course_id": "3",
                                    "total_payments": "150.00"
                                },
                                {
                                    "student_id": "2",
                                    "course_id": "4",
                                    "total_payments": "150.00"
                                },
                                {
                                    "student_id": "3",
                                    "course_id": "5",
                                    "total_payments": "200.00"
                                },
                                {
                                    "student_id": "3",
                                    "course_id": "6",
                                    "total_payments": "200.00"
                                },
                                {
                                    "student_id": "4",
                                    "course_id": "7",
                                    "total_payments": "180.00"
                                },
                                {
                                    "student_id": "4",
                                    "course_id": "8",
                                    "total_payments": "180.00"
                                },
                                {
                                    "student_id": "5",
                                    "course_id": "9",
                                    "total_payments": "120.00"
                                },
                                {
                                    "student_id": "5",
                                    "course_id": "10",
                                    "total_payments": "120.00"
                                }
                            ]
                        },
                        "text/html": "<table><tr><th>student_id</th><th>course_id</th><th>total_payments</th></tr><tr><td>2</td><td>3</td><td>150.00</td></tr><tr><td>2</td><td>4</td><td>150.00</td></tr><tr><td>3</td><td>5</td><td>200.00</td></tr><tr><td>3</td><td>6</td><td>200.00</td></tr><tr><td>4</td><td>7</td><td>180.00</td></tr><tr><td>4</td><td>8</td><td>180.00</td></tr><tr><td>5</td><td>9</td><td>120.00</td></tr><tr><td>5</td><td>10</td><td>120.00</td></tr></table>"
                    },
                    "metadata": {}
                },
                {
                    "output_type": "execute_result",
                    "execution_count": 4,
                    "data": {
                        "application/vnd.dataresource+json": {
                            "schema": {
                                "fields": [
                                    {
                                        "name": "student_id"
                                    }
                                ]
                            },
                            "data": []
                        },
                        "text/html": "<table><tr><th>student_id</th></tr></table>"
                    },
                    "metadata": {}
                },
                {
                    "output_type": "execute_result",
                    "execution_count": 4,
                    "data": {
                        "application/vnd.dataresource+json": {
                            "schema": {
                                "fields": [
                                    {
                                        "name": "student_id"
                                    },
                                    {
                                        "name": "total_payments"
                                    }
                                ]
                            },
                            "data": [
                                {
                                    "student_id": "2",
                                    "total_payments": "150.00"
                                },
                                {
                                    "student_id": "3",
                                    "total_payments": "200.00"
                                },
                                {
                                    "student_id": "4",
                                    "total_payments": "180.00"
                                },
                                {
                                    "student_id": "5",
                                    "total_payments": "120.00"
                                },
                                {
                                    "student_id": "6",
                                    "total_payments": "160.00"
                                },
                                {
                                    "student_id": "7",
                                    "total_payments": "140.00"
                                },
                                {
                                    "student_id": "8",
                                    "total_payments": "130.00"
                                },
                                {
                                    "student_id": "9",
                                    "total_payments": "190.00"
                                },
                                {
                                    "student_id": "10",
                                    "total_payments": "170.00"
                                }
                            ]
                        },
                        "text/html": "<table><tr><th>student_id</th><th>total_payments</th></tr><tr><td>2</td><td>150.00</td></tr><tr><td>3</td><td>200.00</td></tr><tr><td>4</td><td>180.00</td></tr><tr><td>5</td><td>120.00</td></tr><tr><td>6</td><td>160.00</td></tr><tr><td>7</td><td>140.00</td></tr><tr><td>8</td><td>130.00</td></tr><tr><td>9</td><td>190.00</td></tr><tr><td>10</td><td>170.00</td></tr></table>"
                    },
                    "metadata": {}
                },
                {
                    "output_type": "execute_result",
                    "execution_count": 4,
                    "data": {
                        "application/vnd.dataresource+json": {
                            "schema": {
                                "fields": [
                                    {
                                        "name": "course_name"
                                    },
                                    {
                                        "name": "enrollment_count"
                                    }
                                ]
                            },
                            "data": [
                                {
                                    "course_name": "Art",
                                    "enrollment_count": "1"
                                },
                                {
                                    "course_name": "Biology",
                                    "enrollment_count": "2"
                                },
                                {
                                    "course_name": "Chemistry",
                                    "enrollment_count": "1"
                                },
                                {
                                    "course_name": "Computer Science",
                                    "enrollment_count": "1"
                                },
                                {
                                    "course_name": "History",
                                    "enrollment_count": "0"
                                },
                                {
                                    "course_name": "Literature",
                                    "enrollment_count": "1"
                                },
                                {
                                    "course_name": "Mathematics",
                                    "enrollment_count": "0"
                                },
                                {
                                    "course_name": "Music",
                                    "enrollment_count": "1"
                                },
                                {
                                    "course_name": "Physical Education",
                                    "enrollment_count": "1"
                                },
                                {
                                    "course_name": "Physics",
                                    "enrollment_count": "1"
                                }
                            ]
                        },
                        "text/html": "<table><tr><th>course_name</th><th>enrollment_count</th></tr><tr><td>Art</td><td>1</td></tr><tr><td>Biology</td><td>2</td></tr><tr><td>Chemistry</td><td>1</td></tr><tr><td>Computer Science</td><td>1</td></tr><tr><td>History</td><td>0</td></tr><tr><td>Literature</td><td>1</td></tr><tr><td>Mathematics</td><td>0</td></tr><tr><td>Music</td><td>1</td></tr><tr><td>Physical Education</td><td>1</td></tr><tr><td>Physics</td><td>1</td></tr></table>"
                    },
                    "metadata": {}
                },
                {
                    "output_type": "execute_result",
                    "execution_count": 4,
                    "data": {
                        "application/vnd.dataresource+json": {
                            "schema": {
                                "fields": [
                                    {
                                        "name": "average_payment_amount"
                                    }
                                ]
                            },
                            "data": [
                                {
                                    "average_payment_amount": "160.000000"
                                }
                            ]
                        },
                        "text/html": "<table><tr><th>average_payment_amount</th></tr><tr><td>160.000000</td></tr></table>"
                    },
                    "metadata": {}
                }
            ],
            "execution_count": 4
        }
    ]
}